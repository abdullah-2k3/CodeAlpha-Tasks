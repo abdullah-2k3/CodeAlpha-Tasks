{
  "nbformat": 4,
  "nbformat_minor": 0,
  "metadata": {
    "colab": {
      "provenance": []
    },
    "kernelspec": {
      "name": "python3",
      "display_name": "Python 3"
    },
    "language_info": {
      "name": "python"
    }
  },
  "cells": [
    {
      "cell_type": "code",
      "execution_count": 1,
      "metadata": {
        "id": "DliTJKQUOy5c"
      },
      "outputs": [],
      "source": [
        "import numpy as np\n",
        "import pandas as pd\n",
        "import matplotlib.pyplot as plt\n",
        "import seaborn as sns\n",
        "from scipy import stats"
      ]
    },
    {
      "cell_type": "code",
      "source": [
        "np.random.seed(42)"
      ],
      "metadata": {
        "id": "83WUWaf3PKlU"
      },
      "execution_count": 2,
      "outputs": []
    },
    {
      "cell_type": "code",
      "source": [
        "n_control = 10000\n",
        "n_treatment = 10000"
      ],
      "metadata": {
        "id": "yblfhozhPLQF"
      },
      "execution_count": 3,
      "outputs": []
    },
    {
      "cell_type": "code",
      "source": [
        "conversion_rate_control = 0.10"
      ],
      "metadata": {
        "id": "JGTvxVKBPLc_"
      },
      "execution_count": 4,
      "outputs": []
    },
    {
      "cell_type": "code",
      "source": [
        "conversion_rate_treatment = 0.12"
      ],
      "metadata": {
        "id": "hIR7rwhsPLs4"
      },
      "execution_count": 5,
      "outputs": []
    },
    {
      "cell_type": "code",
      "source": [
        "control_conversions = np.random.binomial(1, conversion_rate_control, n_control)\n",
        "treatment_conversions = np.random.binomial(1, conversion_rate_treatment, n_treatment)\n"
      ],
      "metadata": {
        "id": "0FM_63ZaPL9s"
      },
      "execution_count": 6,
      "outputs": []
    },
    {
      "cell_type": "code",
      "source": [
        "df = pd.DataFrame({\n",
        "    'group': ['control'] * n_control + ['treatment'] * n_treatment,\n",
        "    'conversion': np.concatenate([control_conversions, treatment_conversions])\n",
        "})\n",
        "\n",
        "conversion_rates = df.groupby('group')['conversion'].mean()\n",
        "print(\"Conversion Rates:\\n\", conversion_rates)"
      ],
      "metadata": {
        "colab": {
          "base_uri": "https://localhost:8080/"
        },
        "id": "lip0x79zPU5t",
        "outputId": "db41a2b0-95dd-402b-864b-b14d7b2458ef"
      },
      "execution_count": 7,
      "outputs": [
        {
          "output_type": "stream",
          "name": "stdout",
          "text": [
            "Conversion Rates:\n",
            " group\n",
            "control      0.0961\n",
            "treatment    0.1249\n",
            "Name: conversion, dtype: float64\n"
          ]
        }
      ]
    },
    {
      "cell_type": "code",
      "source": [
        "sns.barplot(x=conversion_rates.index, y=conversion_rates.values)\n",
        "plt.xlabel('Group')\n",
        "plt.ylabel('Conversion Rate')\n",
        "plt.title('Conversion Rates by Group')\n",
        "plt.show()"
      ],
      "metadata": {
        "colab": {
          "base_uri": "https://localhost:8080/",
          "height": 472
        },
        "id": "aGqbyr_rPVHS",
        "outputId": "52c9b426-7ff3-4423-dc10-2f4ca7905f84"
      },
      "execution_count": 8,
      "outputs": [
        {
          "output_type": "display_data",
          "data": {
            "text/plain": [
              "<Figure size 640x480 with 1 Axes>"
            ],
            "image/png": "[encoded data removed]"
          },
          "metadata": {}
        }
      ]
    },
    {
      "cell_type": "code",
      "source": [
        "conversion_control = np.sum(control_conversions)\n",
        "conversion_treatment = np.sum(treatment_conversions)\n",
        "\n",
        "conversion_rate_control = conversion_control / n_control\n",
        "conversion_rate_treatment = conversion_treatment / n_treatment"
      ],
      "metadata": {
        "id": "ABvRoZPNPbTq"
      },
      "execution_count": 9,
      "outputs": []
    },
    {
      "cell_type": "code",
      "source": [
        "p_pooled = (conversion_control + conversion_treatment) / (n_control + n_treatment)\n",
        "se_pooled = np.sqrt(p_pooled * (1 - p_pooled) * (1/n_control + 1/n_treatment))"
      ],
      "metadata": {
        "id": "4oNLhN-cPbkU"
      },
      "execution_count": 10,
      "outputs": []
    },
    {
      "cell_type": "code",
      "source": [
        "z_score = (conversion_rate_treatment - conversion_rate_control) / se_pooled\n",
        "\n",
        "p_value = stats.norm.sf(abs(z_score)) * 2\n",
        "\n",
        "print(f\"Z-score: {z_score:.2f}\")\n",
        "print(f\"P-value: {p_value:.4f}\")"
      ],
      "metadata": {
        "colab": {
          "base_uri": "https://localhost:8080/"
        },
        "id": "099Z5skOPhrL",
        "outputId": "fa46bf82-2183-4d2c-f300-330edb110d85"
      },
      "execution_count": 11,
      "outputs": [
        {
          "output_type": "stream",
          "name": "stdout",
          "text": [
            "Z-score: 6.50\n",
            "P-value: 0.0000\n"
          ]
        }
      ]
    },
    {
      "cell_type": "code",
      "source": [
        "alpha = 0.05\n",
        "if p_value < alpha:\n",
        "    print(\"Reject the null hypothesis: There is a significant difference between the conversion rates.\")\n",
        "else:\n",
        "    print(\"Fail to reject the null hypothesis: There is no significant difference between the conversion rates.\")\n"
      ],
      "metadata": {
        "colab": {
          "base_uri": "https://localhost:8080/"
        },
        "id": "i3kYMr6DPh8o",
        "outputId": "e8a75abf-5ed0-4f67-8e06-503d75e3eea3"
      },
      "execution_count": 12,
      "outputs": [
        {
          "output_type": "stream",
          "name": "stdout",
          "text": [
            "Reject the null hypothesis: There is a significant difference between the conversion rates.\n"
          ]
        }
      ]
    }
  ]
}